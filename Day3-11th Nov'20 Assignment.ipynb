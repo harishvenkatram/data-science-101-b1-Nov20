{
  "nbformat": 4,
  "nbformat_minor": 0,
  "metadata": {
    "colab": {
      "name": "Untitled23.ipynb",
      "provenance": [],
      "authorship_tag": "ABX9TyO3gCiUU3V2H9eVG2sYwBEe",
      "include_colab_link": true
    },
    "kernelspec": {
      "name": "python3",
      "display_name": "Python 3"
    }
  },
  "cells": [
    {
      "cell_type": "markdown",
      "metadata": {
        "id": "view-in-github",
        "colab_type": "text"
      },
      "source": [
        "<a href=\"https://colab.research.google.com/github/harishvenkatram/data-science-101-b1-Nov20/blob/main/Day3-11th%20Nov'20%20Assignment.ipynb\" target=\"_parent\"><img src=\"https://colab.research.google.com/assets/colab-badge.svg\" alt=\"Open In Colab\"/></a>"
      ]
    },
    {
      "cell_type": "code",
      "metadata": {
        "id": "TJNfYp7NzRHS",
        "outputId": "c150479a-2ff7-416e-d9ce-420e677ab547",
        "colab": {
          "base_uri": "https://localhost:8080/"
        }
      },
      "source": [
        "#Questions 1\n",
        "#Solution\n",
        "import numpy as np\n",
        "np.arange(2,51,3,int)"
      ],
      "execution_count": null,
      "outputs": [
        {
          "output_type": "execute_result",
          "data": {
            "text/plain": [
              "array([ 2,  5,  8, 11, 14, 17, 20, 23, 26, 29, 32, 35, 38, 41, 44, 47, 50])"
            ]
          },
          "metadata": {
            "tags": []
          },
          "execution_count": 5
        }
      ]
    },
    {
      "cell_type": "code",
      "metadata": {
        "id": "SgDK9o6c3JiF",
        "outputId": "221211b4-cdf7-403a-a225-1241bb0637eb",
        "colab": {
          "base_uri": "https://localhost:8080/"
        }
      },
      "source": [
        "#Question 2\n",
        "#Solution\n",
        "import numpy as np\n",
        "list1=[]\n",
        "list2=[]\n",
        "print(\"Enter 5 elements in first list\")\n",
        "for i in range(5):\n",
        "  a=int(input())\n",
        "  list1.append(a)\n",
        "  i+=1\n",
        "arr1=np.array(list1)\n",
        "print(\"Enter 5 elements in second list\")\n",
        "for j in range(5):\n",
        "  b=int(input())\n",
        "  list2.append(b)\n",
        "  j+=1\n",
        "arr2=np.array(list2)\n",
        "arr=np.concatenate((arr1,arr2))\n",
        "print(\"Concatenated Array: \",arr)\n",
        "print(\"Sorted Arrays: \",np.sort(arr))"
      ],
      "execution_count": null,
      "outputs": [
        {
          "output_type": "stream",
          "text": [
            "Enter 5 elements in first list\n",
            "23\n",
            "56\n",
            "12\n",
            "4\n",
            "53\n",
            "Enter 5 elements in second list\n",
            "9\n",
            "6\n",
            "56\n",
            "11\n",
            "18\n",
            "Concatenated Array:  [23 56 12  4 53  9  6 56 11 18]\n",
            "Sorted Arrays:  [ 4  6  9 11 12 18 23 53 56 56]\n"
          ],
          "name": "stdout"
        }
      ]
    },
    {
      "cell_type": "code",
      "metadata": {
        "id": "yDrYoco2BUu5",
        "outputId": "b00ed1c4-b958-48e6-ee37-dc64a1bb7b63",
        "colab": {
          "base_uri": "https://localhost:8080/"
        }
      },
      "source": [
        "#Question 3\n",
        "#Solution\n",
        "import numpy as np\n",
        "arr = ( [[ 1, 2, 3],[ 4, 2, 5]] )  \n",
        "# Printing array dimensions (axes)\n",
        "print(\"No. of dimensions: \", np.ndim(arr))\n",
        "# Printing size (total number of elements) of array\n",
        "print(\"Size of array: \", np.size(arr))"
      ],
      "execution_count": 15,
      "outputs": [
        {
          "output_type": "stream",
          "text": [
            "No. of dimensions:  2\n",
            "Size of array:  6\n"
          ],
          "name": "stdout"
        }
      ]
    },
    {
      "cell_type": "code",
      "metadata": {
        "id": "ou4OTCYvCQby",
        "outputId": "69011b58-8171-4a5c-8117-58569cc86368",
        "colab": {
          "base_uri": "https://localhost:8080/"
        }
      },
      "source": [
        "#Question 4\n",
        "#Solution\n",
        "import numpy as np\n",
        "arr = np.array([1, 2, 3, 4, 5, 6, 7, 8, 9,10])\n",
        "print(arr.shape)\n",
        "twod= arr[np.newaxis, :]\n",
        "print(twod.shape)\n"
      ],
      "execution_count": null,
      "outputs": [
        {
          "output_type": "stream",
          "text": [
            "(10,)\n",
            "(1, 10)\n"
          ],
          "name": "stdout"
        }
      ]
    },
    {
      "cell_type": "code",
      "metadata": {
        "id": "D9Eth_H9GAF5",
        "outputId": "b803af19-f2ef-4f2c-8267-382e61a80094",
        "colab": {
          "base_uri": "https://localhost:8080/"
        }
      },
      "source": [
        "#Question 5\n",
        "#Solution\n",
        "import numpy as np\n",
        "arr1=[[1,2],[3,4]]\n",
        "arr2=[[5,6],[7,8]]\n",
        "print(\"Array 1:\",arr1,\"\\nArray 2:\",arr2)\n",
        "#Vertical display of array\n",
        "ver=np.vstack((arr1,arr2))\n",
        "print (\"\\nOutput vertically stacked array:\\n\",ver)\n",
        "#Vertical display of array\n",
        "hor=np.hstack((arr1,arr2))\n",
        "print (\"\\nOutput horizontally stacked array:\\n\",hor)"
      ],
      "execution_count": 12,
      "outputs": [
        {
          "output_type": "stream",
          "text": [
            "Array 1: [[1, 2], [3, 4]] \n",
            "Array 2: [[5, 6], [7, 8]]\n",
            "\n",
            "Output vertically stacked array:\n",
            " [[1 2]\n",
            " [3 4]\n",
            " [5 6]\n",
            " [7 8]]\n",
            "\n",
            "Output horizontally stacked array:\n",
            " [[1 2 5 6]\n",
            " [3 4 7 8]]\n"
          ],
          "name": "stdout"
        }
      ]
    },
    {
      "cell_type": "code",
      "metadata": {
        "id": "xshCOj_RGE-m",
        "outputId": "9f5e9832-a429-424c-f79a-1c9d50ff6c3c",
        "colab": {
          "base_uri": "https://localhost:8080/"
        }
      },
      "source": [
        "#Question 6\n",
        "#Solution\n",
        "import numpy as np\n",
        "arr=[1,1,2,3,4,4,1,1,1,1,2,2,2,5,25,1,1]\n",
        "(unique, count)=np.unique(arr,return_counts=True)\n",
        "freq=np.asarray((unique, count)).T\n",
        "print(freq)"
      ],
      "execution_count": 22,
      "outputs": [
        {
          "output_type": "stream",
          "text": [
            "[[ 1  8]\n",
            " [ 2  4]\n",
            " [ 3  1]\n",
            " [ 4  2]\n",
            " [ 5  1]\n",
            " [25  1]]\n"
          ],
          "name": "stdout"
        }
      ]
    }
  ]
}