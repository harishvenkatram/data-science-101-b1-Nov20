{
  "nbformat": 4,
  "nbformat_minor": 0,
  "metadata": {
    "colab": {
      "name": "Data Science B01 Assignment 1.ipynb",
      "provenance": []
    },
    "kernelspec": {
      "name": "python3",
      "display_name": "Python 3"
    }
  },
  "cells": [
    {
      "cell_type": "code",
      "metadata": {
        "id": "39I0p0USL6mk",
        "outputId": "2e3173d8-71d6-4bd8-c3c8-50823da6ecd9",
        "colab": {
          "base_uri": "https://localhost:8080/"
        }
      },
      "source": [
        "#Questions 1\n",
        "import random\n",
        "word = 'OBANWRI'\n",
        "word_len=len(word)\n",
        "count_factorial=1\n",
        "count_word=0\n",
        "factorial = 1\n",
        "for count_factorial in range(1,word_len+1):\n",
        "       factorial = factorial*count_factorial\n",
        "jumbled= []\n",
        "while (count_word<=factorial):\n",
        "    random_word = random.sample(word, len(word))\n",
        "    jumbled_inter=''.join(random_word)\n",
        "    jumbled.append(jumbled_inter)\n",
        "    count_word=count_word+1\n",
        "\n",
        "#print(jumbled)\n",
        "\n",
        "given_word_list=['RANIBOW','RAINBOW','BOWRANI','ROBWANI']\n",
        "jumbled_as_set = set(jumbled)\n",
        "given_world_list_display = jumbled_as_set.intersection(given_word_list)\n",
        "print(given_world_list_display)"
      ],
      "execution_count": 39,
      "outputs": [
        {
          "output_type": "stream",
          "text": [
            "{'RANIBOW', 'ROBWANI', 'RAINBOW', 'BOWRANI'}\n"
          ],
          "name": "stdout"
        }
      ]
    },
    {
      "cell_type": "code",
      "metadata": {
        "id": "enT4MBD7uQXQ"
      },
      "source": [
        "#Questions 2\n",
        "string=input(print(\"Enter the sentence:\"))\n",
        "string.upper()"
      ],
      "execution_count": null,
      "outputs": []
    },
    {
      "cell_type": "code",
      "metadata": {
        "id": "pvUW5qFWNLcd",
        "outputId": "42dad799-0399-47c0-a980-34aa993858db",
        "colab": {
          "base_uri": "https://localhost:8080/"
        }
      },
      "source": [
        "#Questions 3\n",
        "cost_price=input(print(\"Enter the Cost Price for the Product:\"))\n",
        "selling_price=input(print(\"Enter the Selling Price for the Product:\"))\n",
        "if (cost_price>selling_price):\n",
        "  print(\"Transaction is a loss\")\n",
        "elif (cost_price<selling_price):\n",
        "  print(\"Transaction is a gain\")\n",
        "else:\n",
        "  print(\"No loss no gain transaction\")"
      ],
      "execution_count": null,
      "outputs": [
        {
          "output_type": "stream",
          "text": [
            "Enter the Cost Price for the Product:\n",
            "120\n",
            "Enter the Selling Price for the Product:\n",
            "140\n",
            "Transaction is a gain\n"
          ],
          "name": "stdout"
        }
      ]
    },
    {
      "cell_type": "code",
      "metadata": {
        "id": "egTsCC0IPj8E"
      },
      "source": [
        "#Questions 4\n",
        "cost_price=input()\n",
        "selling_price=input()\n",
        "if (cost_price>selling_price):\n",
        "  print(\"Loss\")\n",
        "elif (cost_price<selling_price):\n",
        "  print(\"Profit\")\n",
        "else:\n",
        "  print(\"Neither\")"
      ],
      "execution_count": null,
      "outputs": []
    },
    {
      "cell_type": "code",
      "metadata": {
        "id": "7kZFEFB6QzYf"
      },
      "source": [
        "#Questions 5\n",
        "Indian_Rupees=input()\n",
        "Euro_Equivalant= int(Indian_Rupees)*80\n",
        "print(Euro_Equivalant)"
      ],
      "execution_count": null,
      "outputs": []
    }
  ]
}