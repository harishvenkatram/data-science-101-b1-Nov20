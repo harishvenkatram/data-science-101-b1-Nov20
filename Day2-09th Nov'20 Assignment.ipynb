{
  "nbformat": 4,
  "nbformat_minor": 0,
  "metadata": {
    "colab": {
      "name": "Untitled17.ipynb",
      "provenance": [],
      "authorship_tag": "ABX9TyObhLD+oSOB/Kyfzq571dvH",
      "include_colab_link": true
    },
    "kernelspec": {
      "name": "python3",
      "display_name": "Python 3"
    }
  },
  "cells": [
    {
      "cell_type": "markdown",
      "metadata": {
        "id": "view-in-github",
        "colab_type": "text"
      },
      "source": [
        "<a href=\"https://colab.research.google.com/github/harishvenkatram/data-science-101-b1-Nov20/blob/main/Day2-09th%20Nov'20%20Assignment.ipynb\" target=\"_parent\"><img src=\"https://colab.research.google.com/assets/colab-badge.svg\" alt=\"Open In Colab\"/></a>"
      ]
    },
    {
      "cell_type": "code",
      "metadata": {
        "id": "xvv8UqTnhZ7_",
        "outputId": "931728d6-e4c6-4252-fbe8-c987c52b1153",
        "colab": {
          "base_uri": "https://localhost:8080/"
        }
      },
      "source": [
        "#Questions 1:\n",
        "#Create an empty list. \n",
        "#Accept 10 numbers from the user and append to it the list if it is an even number.\n",
        "\n",
        "#Solution\n",
        "list1=[]\n",
        "counter=1\n",
        "print('Enter upto 10 numbers:'9\n",
        "      )\n",
        "while counter<=10:\n",
        "  user_input=int(input())\n",
        "  if user_input%2==0:\n",
        "    list1.append(user_input)\n",
        "  else:\n",
        "    pass\n",
        "  counter+=1\n",
        "print(\"Even numbers of the 10 numbers entered by you\",list1)\n"
      ],
      "execution_count": 1,
      "outputs": [
        {
          "output_type": "stream",
          "text": [
            "Enter upto 10 numbers:\n",
            "1\n",
            "2\n",
            "3\n",
            "4\n",
            "5\n",
            "6\n",
            "7\n",
            "8\n",
            "9\n",
            "10\n",
            "Even numbers of the 10 numbers entered by you [2, 4, 6, 8, 10]\n"
          ],
          "name": "stdout"
        }
      ]
    },
    {
      "cell_type": "code",
      "metadata": {
        "id": "5oXI4K-AoPVk",
        "outputId": "e23975ef-c1c0-452e-dc23-4cd94d077473",
        "colab": {
          "base_uri": "https://localhost:8080/",
          "height": 86
        }
      },
      "source": [
        "#Questions 2:\n",
        "#Create a notebook on LIST COMPREHENSION.\n",
        "#This exercise is to put you in a Self learning mode\n",
        "\n",
        "#Solution\n",
        "'''\n",
        "List comprehensions provide us with a simple way to create a list based on some iterable.\n",
        "The comprehensions are more efficient than using a for a loop.\n",
        "We can use conditional statements in the comprehensions.\n",
        "Comprehensions are a good alternative to the built-in map and filter functions.\n",
        "We can have nested comprehensions.\n",
        "In Python, we have also dictionary comprehensions and set comprehensions.\n",
        "Generator expressions are preferable when we work with an infinite stream of a very large amount of data.\n",
        "'''"
      ],
      "execution_count": null,
      "outputs": [
        {
          "output_type": "execute_result",
          "data": {
            "application/vnd.google.colaboratory.intrinsic+json": {
              "type": "string"
            },
            "text/plain": [
              "'\\nList comprehensions provide us with a simple way to create a list based on some iterable.\\nThe comprehensions are more efficient than using a for a loop.\\nWe can use conditional statements in the comprehensions.\\nComprehensions are a good alternative to the built-in map and filter functions.\\nWe can have nested comprehensions.\\nIn Python, we have also dictionary comprehensions and set comprehensions.\\nGenerator expressions are preferable when we work with an infinite stream of a very large amount of data.\\n'"
            ]
          },
          "metadata": {
            "tags": []
          },
          "execution_count": 1
        }
      ]
    },
    {
      "cell_type": "code",
      "metadata": {
        "id": "iU1RPSQam5ge",
        "outputId": "366aa2ee-303b-4520-de44-71f03e199db8",
        "colab": {
          "base_uri": "https://localhost:8080/"
        }
      },
      "source": [
        "#Question 3\n",
        "#Solution\n",
        "n=int(input(\"Enter a number:\"))\n",
        "d={x:x*x for x in range(1,n+1)}\n",
        "print(d)"
      ],
      "execution_count": 3,
      "outputs": [
        {
          "output_type": "stream",
          "text": [
            "Enter a number:4\n",
            "{1: 1, 2: 4, 3: 9, 4: 16}\n"
          ],
          "name": "stdout"
        }
      ]
    },
    {
      "cell_type": "code",
      "metadata": {
        "id": "Xl6qwrvSuevj",
        "outputId": "26b8be25-3699-48cb-f4bb-1182f2a146ac",
        "colab": {
          "base_uri": "https://localhost:8080/"
        }
      },
      "source": [
        "#Question 4\n",
        "#Solution\n",
        "import math\n",
        "x, y = 0, 0\n",
        "while True:\n",
        "    step = input(\"Type in UP/DOWN/LEFT/RIGHT #step number: \")\n",
        "    if step == \"\":\n",
        "        break\n",
        "    else:\n",
        "        step = step.split(\" \")\n",
        "        if step[0] == \"UP\":\n",
        "            y = y + int(step[1])\n",
        "        elif step[0] == \"DOWN\":\n",
        "            y = y - int(step[1])\n",
        "        elif step[0] == \"LEFT\":\n",
        "            x = x - int(step[1])\n",
        "        elif step[0] == \"RIGHT\":\n",
        "            x = x + int(step[1])\n",
        "c = math.sqrt(x**2 + y**2)\n",
        "print(\"Distance:\", c)"
      ],
      "execution_count": 4,
      "outputs": [
        {
          "output_type": "stream",
          "text": [
            "Type in UP/DOWN/LEFT/RIGHT #step number: UP 5\n",
            "Type in UP/DOWN/LEFT/RIGHT #step number: DOWN 3\n",
            "Type in UP/DOWN/LEFT/RIGHT #step number: LEFT 3\n",
            "Type in UP/DOWN/LEFT/RIGHT #step number: RIGHT 2\n",
            "Type in UP/DOWN/LEFT/RIGHT #step number: \n",
            "Distance: 2.23606797749979\n"
          ],
          "name": "stdout"
        }
      ]
    }
  ]
}