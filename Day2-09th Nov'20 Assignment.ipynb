{
  "nbformat": 4,
  "nbformat_minor": 0,
  "metadata": {
    "colab": {
      "name": "Untitled17.ipynb",
      "provenance": [],
      "authorship_tag": "ABX9TyO2xn+MUmcoZu4VIksFZoxu",
      "include_colab_link": true
    },
    "kernelspec": {
      "name": "python3",
      "display_name": "Python 3"
    }
  },
  "cells": [
    {
      "cell_type": "markdown",
      "metadata": {
        "id": "view-in-github",
        "colab_type": "text"
      },
      "source": [
        "<a href=\"https://colab.research.google.com/github/harishvenkatram/data-science-101-b1-Nov20/blob/main/Day2-09th%20Nov'20%20Assignment.ipynb\" target=\"_parent\"><img src=\"https://colab.research.google.com/assets/colab-badge.svg\" alt=\"Open In Colab\"/></a>"
      ]
    },
    {
      "cell_type": "code",
      "metadata": {
        "id": "xvv8UqTnhZ7_",
        "outputId": "ca69e492-9a8c-4fbd-87c5-555bd03f8e8b",
        "colab": {
          "base_uri": "https://localhost:8080/"
        }
      },
      "source": [
        "#Questions 1:\n",
        "#Create an empty list. \n",
        "#Accept 10 numbers from the user and append to it the list if it is an even number.\n",
        "\n",
        "#Solution\n",
        "list1=[]\n",
        "counter=1\n",
        "while counter<=10:\n",
        "  user_input=int(input('Enter upto 10 numbers:'))\n",
        "  if user_input%2==0:\n",
        "    list1.append(user_input)\n",
        "  else:\n",
        "    pass\n",
        "  counter+=1\n",
        "print(\"Even numbers of the 10 numbers entered by you\",list1)\n"
      ],
      "execution_count": 12,
      "outputs": [
        {
          "output_type": "stream",
          "text": [
            "Enter upto 10 numbers:1\n",
            "Enter upto 10 numbers:2\n",
            "Enter upto 10 numbers:3\n",
            "Enter upto 10 numbers:4\n",
            "Enter upto 10 numbers:5\n",
            "Enter upto 10 numbers:6\n",
            "Enter upto 10 numbers:7\n",
            "Enter upto 10 numbers:8\n",
            "Enter upto 10 numbers:9\n",
            "Enter upto 10 numbers:10\n",
            "Even numbers of the 10 numbers entered by you [2, 4, 6, 8, 10]\n"
          ],
          "name": "stdout"
        }
      ]
    },
    {
      "cell_type": "code",
      "metadata": {
        "id": "5oXI4K-AoPVk",
        "outputId": "e23975ef-c1c0-452e-dc23-4cd94d077473",
        "colab": {
          "base_uri": "https://localhost:8080/",
          "height": 86
        }
      },
      "source": [
        "#Questions 2:\n",
        "#Create a notebook on LIST COMPREHENSION.\n",
        "#This exercise is to put you in a Self learning mode\n",
        "\n",
        "#Solution\n",
        "'''\n",
        "List comprehensions provide us with a simple way to create a list based on some iterable.\n",
        "The comprehensions are more efficient than using a for a loop.\n",
        "We can use conditional statements in the comprehensions.\n",
        "Comprehensions are a good alternative to the built-in map and filter functions.\n",
        "We can have nested comprehensions.\n",
        "In Python, we have also dictionary comprehensions and set comprehensions.\n",
        "Generator expressions are preferable when we work with an infinite stream of a very large amount of data.\n",
        "'''"
      ],
      "execution_count": 1,
      "outputs": [
        {
          "output_type": "execute_result",
          "data": {
            "application/vnd.google.colaboratory.intrinsic+json": {
              "type": "string"
            },
            "text/plain": [
              "'\\nList comprehensions provide us with a simple way to create a list based on some iterable.\\nThe comprehensions are more efficient than using a for a loop.\\nWe can use conditional statements in the comprehensions.\\nComprehensions are a good alternative to the built-in map and filter functions.\\nWe can have nested comprehensions.\\nIn Python, we have also dictionary comprehensions and set comprehensions.\\nGenerator expressions are preferable when we work with an infinite stream of a very large amount of data.\\n'"
            ]
          },
          "metadata": {
            "tags": []
          },
          "execution_count": 1
        }
      ]
    }
  ]
}